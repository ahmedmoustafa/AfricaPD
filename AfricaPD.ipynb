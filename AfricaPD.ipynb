{
 "cells": [
  {
   "cell_type": "markdown",
   "metadata": {},
   "source": [
    "# Africa PD"
   ]
  },
  {
   "cell_type": "code",
   "execution_count": 17,
   "metadata": {},
   "outputs": [],
   "source": [
    "import pandas as pd\n",
    "import plotly.graph_objects as go\n",
    "from datetime import date"
   ]
  },
  {
   "cell_type": "code",
   "execution_count": 2,
   "metadata": {},
   "outputs": [
    {
     "data": {
      "text/html": [
       "<div>\n",
       "<style scoped>\n",
       "    .dataframe tbody tr th:only-of-type {\n",
       "        vertical-align: middle;\n",
       "    }\n",
       "\n",
       "    .dataframe tbody tr th {\n",
       "        vertical-align: top;\n",
       "    }\n",
       "\n",
       "    .dataframe thead th {\n",
       "        text-align: right;\n",
       "    }\n",
       "</style>\n",
       "<table border=\"1\" class=\"dataframe\">\n",
       "  <thead>\n",
       "    <tr style=\"text-align: right;\">\n",
       "      <th></th>\n",
       "      <th>study_id</th>\n",
       "      <th>theme</th>\n",
       "      <th>name</th>\n",
       "    </tr>\n",
       "  </thead>\n",
       "  <tbody>\n",
       "    <tr>\n",
       "      <th>0</th>\n",
       "      <td>1</td>\n",
       "      <td>Genetics</td>\n",
       "      <td>Tunisia</td>\n",
       "    </tr>\n",
       "    <tr>\n",
       "      <th>1</th>\n",
       "      <td>2</td>\n",
       "      <td>Genetics</td>\n",
       "      <td>Tunisia</td>\n",
       "    </tr>\n",
       "    <tr>\n",
       "      <th>2</th>\n",
       "      <td>3</td>\n",
       "      <td>Genetics</td>\n",
       "      <td>Algeria</td>\n",
       "    </tr>\n",
       "    <tr>\n",
       "      <th>3</th>\n",
       "      <td>3</td>\n",
       "      <td>Genetics</td>\n",
       "      <td>Tunisia</td>\n",
       "    </tr>\n",
       "    <tr>\n",
       "      <th>4</th>\n",
       "      <td>3</td>\n",
       "      <td>Genetics</td>\n",
       "      <td>Morocco</td>\n",
       "    </tr>\n",
       "  </tbody>\n",
       "</table>\n",
       "</div>"
      ],
      "text/plain": [
       "   study_id     theme     name\n",
       "0         1  Genetics  Tunisia\n",
       "1         2  Genetics  Tunisia\n",
       "2         3  Genetics  Algeria\n",
       "3         3  Genetics  Tunisia\n",
       "4         3  Genetics  Morocco"
      ]
     },
     "execution_count": 2,
     "metadata": {},
     "output_type": "execute_result"
    }
   ],
   "source": [
    "themes = pd.read_table(\"https://raw.githubusercontent.com/ahmedmoustafa/AfricaPD/main/data/themes_long.tsv\")\n",
    "themes.head()"
   ]
  },
  {
   "cell_type": "code",
   "execution_count": 3,
   "metadata": {},
   "outputs": [
    {
     "data": {
      "text/html": [
       "<div>\n",
       "<style scoped>\n",
       "    .dataframe tbody tr th:only-of-type {\n",
       "        vertical-align: middle;\n",
       "    }\n",
       "\n",
       "    .dataframe tbody tr th {\n",
       "        vertical-align: top;\n",
       "    }\n",
       "\n",
       "    .dataframe thead th {\n",
       "        text-align: right;\n",
       "    }\n",
       "</style>\n",
       "<table border=\"1\" class=\"dataframe\">\n",
       "  <thead>\n",
       "    <tr style=\"text-align: right;\">\n",
       "      <th></th>\n",
       "      <th>name</th>\n",
       "      <th>theme</th>\n",
       "      <th>count</th>\n",
       "    </tr>\n",
       "  </thead>\n",
       "  <tbody>\n",
       "    <tr>\n",
       "      <th>0</th>\n",
       "      <td>South Africa</td>\n",
       "      <td>Genetics</td>\n",
       "      <td>22</td>\n",
       "    </tr>\n",
       "    <tr>\n",
       "      <th>1</th>\n",
       "      <td>Tunisia</td>\n",
       "      <td>Genetics</td>\n",
       "      <td>20</td>\n",
       "    </tr>\n",
       "    <tr>\n",
       "      <th>2</th>\n",
       "      <td>Nigeria</td>\n",
       "      <td>Clinical features</td>\n",
       "      <td>18</td>\n",
       "    </tr>\n",
       "    <tr>\n",
       "      <th>3</th>\n",
       "      <td>Nigeria</td>\n",
       "      <td>Genetics</td>\n",
       "      <td>9</td>\n",
       "    </tr>\n",
       "    <tr>\n",
       "      <th>4</th>\n",
       "      <td>Morocco</td>\n",
       "      <td>Genetics</td>\n",
       "      <td>8</td>\n",
       "    </tr>\n",
       "  </tbody>\n",
       "</table>\n",
       "</div>"
      ],
      "text/plain": [
       "           name              theme  count\n",
       "0  South Africa           Genetics     22\n",
       "1       Tunisia           Genetics     20\n",
       "2       Nigeria  Clinical features     18\n",
       "3       Nigeria           Genetics      9\n",
       "4       Morocco           Genetics      8"
      ]
     },
     "execution_count": 3,
     "metadata": {},
     "output_type": "execute_result"
    }
   ],
   "source": [
    "themes2 = themes.groupby(by = [\"name\", \"theme\"]).size().sort_values(ascending=False).reset_index(name = \"count\")\n",
    "themes2.head()"
   ]
  },
  {
   "cell_type": "code",
   "execution_count": 4,
   "metadata": {},
   "outputs": [
    {
     "data": {
      "text/html": [
       "<div>\n",
       "<style scoped>\n",
       "    .dataframe tbody tr th:only-of-type {\n",
       "        vertical-align: middle;\n",
       "    }\n",
       "\n",
       "    .dataframe tbody tr th {\n",
       "        vertical-align: top;\n",
       "    }\n",
       "\n",
       "    .dataframe thead th {\n",
       "        text-align: right;\n",
       "    }\n",
       "</style>\n",
       "<table border=\"1\" class=\"dataframe\">\n",
       "  <thead>\n",
       "    <tr style=\"text-align: right;\">\n",
       "      <th></th>\n",
       "      <th>name</th>\n",
       "      <th>theme</th>\n",
       "      <th>count</th>\n",
       "    </tr>\n",
       "  </thead>\n",
       "  <tbody>\n",
       "    <tr>\n",
       "      <th>78</th>\n",
       "      <td>Nigeria</td>\n",
       "      <td>Unknown</td>\n",
       "      <td>1</td>\n",
       "    </tr>\n",
       "    <tr>\n",
       "      <th>79</th>\n",
       "      <td>Senegal</td>\n",
       "      <td>Patient engagement and QOL</td>\n",
       "      <td>1</td>\n",
       "    </tr>\n",
       "    <tr>\n",
       "      <th>80</th>\n",
       "      <td>Somalia</td>\n",
       "      <td>Management and Access to care</td>\n",
       "      <td>1</td>\n",
       "    </tr>\n",
       "    <tr>\n",
       "      <th>81</th>\n",
       "      <td>Ethiopia</td>\n",
       "      <td>Patient engagement and QOL</td>\n",
       "      <td>1</td>\n",
       "    </tr>\n",
       "    <tr>\n",
       "      <th>82</th>\n",
       "      <td>Zimbabwe</td>\n",
       "      <td>Management and Access to care</td>\n",
       "      <td>1</td>\n",
       "    </tr>\n",
       "  </tbody>\n",
       "</table>\n",
       "</div>"
      ],
      "text/plain": [
       "        name                          theme  count\n",
       "78   Nigeria                        Unknown      1\n",
       "79   Senegal     Patient engagement and QOL      1\n",
       "80   Somalia  Management and Access to care      1\n",
       "81  Ethiopia     Patient engagement and QOL      1\n",
       "82  Zimbabwe  Management and Access to care      1"
      ]
     },
     "execution_count": 4,
     "metadata": {},
     "output_type": "execute_result"
    }
   ],
   "source": [
    "themes2.tail()"
   ]
  },
  {
   "cell_type": "code",
   "execution_count": 5,
   "metadata": {},
   "outputs": [
    {
     "data": {
      "text/html": [
       "<div>\n",
       "<style scoped>\n",
       "    .dataframe tbody tr th:only-of-type {\n",
       "        vertical-align: middle;\n",
       "    }\n",
       "\n",
       "    .dataframe tbody tr th {\n",
       "        vertical-align: top;\n",
       "    }\n",
       "\n",
       "    .dataframe thead th {\n",
       "        text-align: right;\n",
       "    }\n",
       "</style>\n",
       "<table border=\"1\" class=\"dataframe\">\n",
       "  <thead>\n",
       "    <tr style=\"text-align: right;\">\n",
       "      <th></th>\n",
       "      <th>country</th>\n",
       "      <th>latitude</th>\n",
       "      <th>longitude</th>\n",
       "      <th>name</th>\n",
       "    </tr>\n",
       "  </thead>\n",
       "  <tbody>\n",
       "    <tr>\n",
       "      <th>0</th>\n",
       "      <td>AD</td>\n",
       "      <td>42.546245</td>\n",
       "      <td>1.601554</td>\n",
       "      <td>Andorra</td>\n",
       "    </tr>\n",
       "    <tr>\n",
       "      <th>1</th>\n",
       "      <td>AE</td>\n",
       "      <td>23.424076</td>\n",
       "      <td>53.847818</td>\n",
       "      <td>United Arab Emirates</td>\n",
       "    </tr>\n",
       "    <tr>\n",
       "      <th>2</th>\n",
       "      <td>AF</td>\n",
       "      <td>33.939110</td>\n",
       "      <td>67.709953</td>\n",
       "      <td>Afghanistan</td>\n",
       "    </tr>\n",
       "    <tr>\n",
       "      <th>3</th>\n",
       "      <td>AG</td>\n",
       "      <td>17.060816</td>\n",
       "      <td>-61.796428</td>\n",
       "      <td>Antigua and Barbuda</td>\n",
       "    </tr>\n",
       "    <tr>\n",
       "      <th>4</th>\n",
       "      <td>AI</td>\n",
       "      <td>18.220554</td>\n",
       "      <td>-63.068615</td>\n",
       "      <td>Anguilla</td>\n",
       "    </tr>\n",
       "  </tbody>\n",
       "</table>\n",
       "</div>"
      ],
      "text/plain": [
       "  country   latitude  longitude                  name\n",
       "0      AD  42.546245   1.601554               Andorra\n",
       "1      AE  23.424076  53.847818  United Arab Emirates\n",
       "2      AF  33.939110  67.709953           Afghanistan\n",
       "3      AG  17.060816 -61.796428   Antigua and Barbuda\n",
       "4      AI  18.220554 -63.068615              Anguilla"
      ]
     },
     "execution_count": 5,
     "metadata": {},
     "output_type": "execute_result"
    }
   ],
   "source": [
    "countires = pd.read_table (\"https://raw.githubusercontent.com/ahmedmoustafa/AfricaPD/main/data/countries.tsv\") # Reference https://developers.google.com/public-data/docs/canonical/countries_csv\n",
    "countires.head()"
   ]
  },
  {
   "cell_type": "code",
   "execution_count": 6,
   "metadata": {},
   "outputs": [
    {
     "data": {
      "text/html": [
       "<div>\n",
       "<style scoped>\n",
       "    .dataframe tbody tr th:only-of-type {\n",
       "        vertical-align: middle;\n",
       "    }\n",
       "\n",
       "    .dataframe tbody tr th {\n",
       "        vertical-align: top;\n",
       "    }\n",
       "\n",
       "    .dataframe thead th {\n",
       "        text-align: right;\n",
       "    }\n",
       "</style>\n",
       "<table border=\"1\" class=\"dataframe\">\n",
       "  <thead>\n",
       "    <tr style=\"text-align: right;\">\n",
       "      <th></th>\n",
       "      <th>name</th>\n",
       "      <th>theme</th>\n",
       "      <th>count</th>\n",
       "      <th>country</th>\n",
       "      <th>latitude</th>\n",
       "      <th>longitude</th>\n",
       "      <th>indicator</th>\n",
       "    </tr>\n",
       "  </thead>\n",
       "  <tbody>\n",
       "    <tr>\n",
       "      <th>0</th>\n",
       "      <td>South Africa</td>\n",
       "      <td>Genetics</td>\n",
       "      <td>22</td>\n",
       "      <td>ZA</td>\n",
       "      <td>-30.559482</td>\n",
       "      <td>22.937506</td>\n",
       "      <td>both</td>\n",
       "    </tr>\n",
       "    <tr>\n",
       "      <th>1</th>\n",
       "      <td>Tunisia</td>\n",
       "      <td>Genetics</td>\n",
       "      <td>20</td>\n",
       "      <td>TN</td>\n",
       "      <td>33.886917</td>\n",
       "      <td>9.537499</td>\n",
       "      <td>both</td>\n",
       "    </tr>\n",
       "    <tr>\n",
       "      <th>2</th>\n",
       "      <td>Nigeria</td>\n",
       "      <td>Clinical features</td>\n",
       "      <td>18</td>\n",
       "      <td>NG</td>\n",
       "      <td>9.081999</td>\n",
       "      <td>8.675277</td>\n",
       "      <td>both</td>\n",
       "    </tr>\n",
       "    <tr>\n",
       "      <th>3</th>\n",
       "      <td>Nigeria</td>\n",
       "      <td>Genetics</td>\n",
       "      <td>9</td>\n",
       "      <td>NG</td>\n",
       "      <td>9.081999</td>\n",
       "      <td>8.675277</td>\n",
       "      <td>both</td>\n",
       "    </tr>\n",
       "    <tr>\n",
       "      <th>4</th>\n",
       "      <td>Morocco</td>\n",
       "      <td>Genetics</td>\n",
       "      <td>8</td>\n",
       "      <td>MA</td>\n",
       "      <td>31.791702</td>\n",
       "      <td>-7.092620</td>\n",
       "      <td>both</td>\n",
       "    </tr>\n",
       "  </tbody>\n",
       "</table>\n",
       "</div>"
      ],
      "text/plain": [
       "           name              theme  count country   latitude  longitude  \\\n",
       "0  South Africa           Genetics     22      ZA -30.559482  22.937506   \n",
       "1       Tunisia           Genetics     20      TN  33.886917   9.537499   \n",
       "2       Nigeria  Clinical features     18      NG   9.081999   8.675277   \n",
       "3       Nigeria           Genetics      9      NG   9.081999   8.675277   \n",
       "4       Morocco           Genetics      8      MA  31.791702  -7.092620   \n",
       "\n",
       "  indicator  \n",
       "0      both  \n",
       "1      both  \n",
       "2      both  \n",
       "3      both  \n",
       "4      both  "
      ]
     },
     "execution_count": 6,
     "metadata": {},
     "output_type": "execute_result"
    }
   ],
   "source": [
    "df = pd.merge (themes2, countires, on = \"name\", how = \"left\", indicator=\"indicator\")\n",
    "df.head()"
   ]
  },
  {
   "cell_type": "code",
   "execution_count": 7,
   "metadata": {},
   "outputs": [
    {
     "data": {
      "text/html": [
       "<div>\n",
       "<style scoped>\n",
       "    .dataframe tbody tr th:only-of-type {\n",
       "        vertical-align: middle;\n",
       "    }\n",
       "\n",
       "    .dataframe tbody tr th {\n",
       "        vertical-align: top;\n",
       "    }\n",
       "\n",
       "    .dataframe thead th {\n",
       "        text-align: right;\n",
       "    }\n",
       "</style>\n",
       "<table border=\"1\" class=\"dataframe\">\n",
       "  <thead>\n",
       "    <tr style=\"text-align: right;\">\n",
       "      <th></th>\n",
       "      <th>name</th>\n",
       "      <th>theme</th>\n",
       "      <th>count</th>\n",
       "      <th>country</th>\n",
       "      <th>latitude</th>\n",
       "      <th>longitude</th>\n",
       "      <th>indicator</th>\n",
       "    </tr>\n",
       "  </thead>\n",
       "  <tbody>\n",
       "    <tr>\n",
       "      <th>78</th>\n",
       "      <td>Nigeria</td>\n",
       "      <td>Unknown</td>\n",
       "      <td>1</td>\n",
       "      <td>NG</td>\n",
       "      <td>9.081999</td>\n",
       "      <td>8.675277</td>\n",
       "      <td>both</td>\n",
       "    </tr>\n",
       "    <tr>\n",
       "      <th>79</th>\n",
       "      <td>Senegal</td>\n",
       "      <td>Patient engagement and QOL</td>\n",
       "      <td>1</td>\n",
       "      <td>SN</td>\n",
       "      <td>14.497401</td>\n",
       "      <td>-14.452362</td>\n",
       "      <td>both</td>\n",
       "    </tr>\n",
       "    <tr>\n",
       "      <th>80</th>\n",
       "      <td>Somalia</td>\n",
       "      <td>Management and Access to care</td>\n",
       "      <td>1</td>\n",
       "      <td>SO</td>\n",
       "      <td>5.152149</td>\n",
       "      <td>46.199616</td>\n",
       "      <td>both</td>\n",
       "    </tr>\n",
       "    <tr>\n",
       "      <th>81</th>\n",
       "      <td>Ethiopia</td>\n",
       "      <td>Patient engagement and QOL</td>\n",
       "      <td>1</td>\n",
       "      <td>ET</td>\n",
       "      <td>9.145000</td>\n",
       "      <td>40.489673</td>\n",
       "      <td>both</td>\n",
       "    </tr>\n",
       "    <tr>\n",
       "      <th>82</th>\n",
       "      <td>Zimbabwe</td>\n",
       "      <td>Management and Access to care</td>\n",
       "      <td>1</td>\n",
       "      <td>ZW</td>\n",
       "      <td>-19.015438</td>\n",
       "      <td>29.154857</td>\n",
       "      <td>both</td>\n",
       "    </tr>\n",
       "  </tbody>\n",
       "</table>\n",
       "</div>"
      ],
      "text/plain": [
       "        name                          theme  count country   latitude  \\\n",
       "78   Nigeria                        Unknown      1      NG   9.081999   \n",
       "79   Senegal     Patient engagement and QOL      1      SN  14.497401   \n",
       "80   Somalia  Management and Access to care      1      SO   5.152149   \n",
       "81  Ethiopia     Patient engagement and QOL      1      ET   9.145000   \n",
       "82  Zimbabwe  Management and Access to care      1      ZW -19.015438   \n",
       "\n",
       "    longitude indicator  \n",
       "78   8.675277      both  \n",
       "79 -14.452362      both  \n",
       "80  46.199616      both  \n",
       "81  40.489673      both  \n",
       "82  29.154857      both  "
      ]
     },
     "execution_count": 7,
     "metadata": {},
     "output_type": "execute_result"
    }
   ],
   "source": [
    "df.tail()"
   ]
  },
  {
   "cell_type": "code",
   "execution_count": 8,
   "metadata": {},
   "outputs": [
    {
     "data": {
      "text/html": [
       "<div>\n",
       "<style scoped>\n",
       "    .dataframe tbody tr th:only-of-type {\n",
       "        vertical-align: middle;\n",
       "    }\n",
       "\n",
       "    .dataframe tbody tr th {\n",
       "        vertical-align: top;\n",
       "    }\n",
       "\n",
       "    .dataframe thead th {\n",
       "        text-align: right;\n",
       "    }\n",
       "</style>\n",
       "<table border=\"1\" class=\"dataframe\">\n",
       "  <thead>\n",
       "    <tr style=\"text-align: right;\">\n",
       "      <th></th>\n",
       "      <th>name</th>\n",
       "      <th>theme</th>\n",
       "      <th>count</th>\n",
       "      <th>country</th>\n",
       "      <th>latitude</th>\n",
       "      <th>longitude</th>\n",
       "      <th>indicator</th>\n",
       "    </tr>\n",
       "  </thead>\n",
       "  <tbody>\n",
       "  </tbody>\n",
       "</table>\n",
       "</div>"
      ],
      "text/plain": [
       "Empty DataFrame\n",
       "Columns: [name, theme, count, country, latitude, longitude, indicator]\n",
       "Index: []"
      ]
     },
     "execution_count": 8,
     "metadata": {},
     "output_type": "execute_result"
    }
   ],
   "source": [
    "missing = df[df[\"indicator\"] == \"left_only\"]\n",
    "missing"
   ]
  },
  {
   "cell_type": "code",
   "execution_count": 9,
   "metadata": {},
   "outputs": [
    {
     "data": {
      "text/plain": [
       "array(['Genetics', 'Clinical features', 'Epidemiology', 'Risk factors',\n",
       "       'Education and Training', 'Patient engagement and QOL',\n",
       "       'Management and Access to care', 'Genetics+Clinical',\n",
       "       'Clinical features+Epidemiology', 'Unknown'], dtype=object)"
      ]
     },
     "execution_count": 9,
     "metadata": {},
     "output_type": "execute_result"
    }
   ],
   "source": [
    "groups = df['theme'].unique()\n",
    "groups"
   ]
  },
  {
   "cell_type": "code",
   "execution_count": 10,
   "metadata": {},
   "outputs": [
    {
     "data": {
      "text/plain": [
       "10"
      ]
     },
     "execution_count": 10,
     "metadata": {},
     "output_type": "execute_result"
    }
   ],
   "source": [
    "len(groups)"
   ]
  },
  {
   "cell_type": "code",
   "execution_count": 11,
   "metadata": {},
   "outputs": [
    {
     "data": {
      "text/html": [
       "<div>\n",
       "<style scoped>\n",
       "    .dataframe tbody tr th:only-of-type {\n",
       "        vertical-align: middle;\n",
       "    }\n",
       "\n",
       "    .dataframe tbody tr th {\n",
       "        vertical-align: top;\n",
       "    }\n",
       "\n",
       "    .dataframe thead th {\n",
       "        text-align: right;\n",
       "    }\n",
       "</style>\n",
       "<table border=\"1\" class=\"dataframe\">\n",
       "  <thead>\n",
       "    <tr style=\"text-align: right;\">\n",
       "      <th></th>\n",
       "      <th>theme</th>\n",
       "      <th>color</th>\n",
       "    </tr>\n",
       "  </thead>\n",
       "  <tbody>\n",
       "    <tr>\n",
       "      <th>0</th>\n",
       "      <td>Genetics</td>\n",
       "      <td>#e41a1c</td>\n",
       "    </tr>\n",
       "    <tr>\n",
       "      <th>1</th>\n",
       "      <td>Clinical features</td>\n",
       "      <td>#377eb8</td>\n",
       "    </tr>\n",
       "    <tr>\n",
       "      <th>2</th>\n",
       "      <td>Epidemiology</td>\n",
       "      <td>#4daf4a</td>\n",
       "    </tr>\n",
       "    <tr>\n",
       "      <th>3</th>\n",
       "      <td>Risk factors</td>\n",
       "      <td>#984ea3</td>\n",
       "    </tr>\n",
       "    <tr>\n",
       "      <th>4</th>\n",
       "      <td>Education and Training</td>\n",
       "      <td>#ff7f00</td>\n",
       "    </tr>\n",
       "    <tr>\n",
       "      <th>5</th>\n",
       "      <td>Patient engagement and QOL</td>\n",
       "      <td>#ffff33</td>\n",
       "    </tr>\n",
       "    <tr>\n",
       "      <th>6</th>\n",
       "      <td>Management and Access to care</td>\n",
       "      <td>#a65628</td>\n",
       "    </tr>\n",
       "    <tr>\n",
       "      <th>7</th>\n",
       "      <td>Genetics+Clinical</td>\n",
       "      <td>#f781bf</td>\n",
       "    </tr>\n",
       "    <tr>\n",
       "      <th>8</th>\n",
       "      <td>Clinical features+Epidemiology</td>\n",
       "      <td>#999999</td>\n",
       "    </tr>\n",
       "    <tr>\n",
       "      <th>9</th>\n",
       "      <td>Unknown</td>\n",
       "      <td>#000000</td>\n",
       "    </tr>\n",
       "  </tbody>\n",
       "</table>\n",
       "</div>"
      ],
      "text/plain": [
       "                            theme    color\n",
       "0                        Genetics  #e41a1c\n",
       "1               Clinical features  #377eb8\n",
       "2                    Epidemiology  #4daf4a\n",
       "3                    Risk factors  #984ea3\n",
       "4          Education and Training  #ff7f00\n",
       "5      Patient engagement and QOL  #ffff33\n",
       "6   Management and Access to care  #a65628\n",
       "7               Genetics+Clinical  #f781bf\n",
       "8  Clinical features+Epidemiology  #999999\n",
       "9                         Unknown  #000000"
      ]
     },
     "execution_count": 11,
     "metadata": {},
     "output_type": "execute_result"
    }
   ],
   "source": [
    "groups2 = pd.DataFrame({'theme' : list(groups), 'color' : ['#e41a1c', '#377eb8', '#4daf4a', '#984ea3', '#ff7f00', '#ffff33', '#a65628', '#f781bf', '#999999', \"#000000\"]})\n",
    "groups2"
   ]
  },
  {
   "cell_type": "code",
   "execution_count": 12,
   "metadata": {},
   "outputs": [],
   "source": [
    "fig = go.Figure()"
   ]
  },
  {
   "cell_type": "code",
   "execution_count": 19,
   "metadata": {},
   "outputs": [
    {
     "data": {
      "application/vnd.plotly.v1+json": {
       "config": {
        "plotlyServerURL": "https://plot.ly"
       },
       "data": [
        {
         "lat": [
          -30.559482,
          33.886917,
          9.081999,
          31.791702,
          28.033886,
          26.820553,
          12.862807,
          -13.133897,
          26.3351,
          -6.369028
         ],
         "lon": [
          22.937506,
          9.537499,
          8.675277,
          -7.09262,
          1.659626,
          30.802498,
          30.217636,
          27.849332,
          17.228331,
          34.888822
         ],
         "marker": {
          "color": "#e41a1c",
          "line": {
           "color": "rgb(40,40,40)",
           "width": 0.5
          },
          "opacity": 0.5,
          "size": [
           22,
           20,
           9,
           8,
           6,
           3,
           3,
           2,
           2,
           2
          ],
          "sizemode": "area",
          "sizeref": 0.05
         },
         "name": "Genetics",
         "text": [
          "South Africa",
          "Tunisia",
          "Nigeria",
          "Morocco",
          "Algeria",
          "Egypt",
          "Sudan",
          "Zambia",
          "Libya",
          "Tanzania"
         ],
         "type": "scattergeo"
        },
        {
         "lat": [
          9.081999,
          26.820553,
          -30.559482,
          -6.369028,
          31.791702,
          9.145,
          7.369722,
          14.497401,
          33.886917,
          7.946527,
          12.862807,
          -13.133897,
          -18.766947,
          17.607789,
          -0.023559
         ],
         "lon": [
          8.675277,
          30.802498,
          22.937506,
          34.888822,
          -7.09262,
          40.489673,
          12.354722,
          -14.452362,
          9.537499,
          -1.023194,
          30.217636,
          27.849332,
          46.869107,
          8.081666,
          37.906193
         ],
         "marker": {
          "color": "#377eb8",
          "line": {
           "color": "rgb(40,40,40)",
           "width": 0.5
          },
          "opacity": 0.5,
          "size": [
           18,
           6,
           5,
           5,
           5,
           4,
           3,
           3,
           2,
           2,
           1,
           1,
           1,
           1,
           1
          ],
          "sizemode": "area",
          "sizeref": 0.05
         },
         "name": "Clinical features",
         "text": [
          "Nigeria",
          "Egypt",
          "South Africa",
          "Tanzania",
          "Morocco",
          "Ethiopia",
          "Cameroon",
          "Senegal",
          "Tunisia",
          "Ghana",
          "Sudan",
          "Zambia",
          "Madagascar",
          "Niger",
          "Kenya"
         ],
         "type": "scattergeo"
        },
        {
         "lat": [
          9.081999,
          7.369722,
          26.820553,
          -6.369028,
          33.886917,
          9.30769,
          9.145,
          26.3351
         ],
         "lon": [
          8.675277,
          12.354722,
          30.802498,
          34.888822,
          9.537499,
          2.315834,
          40.489673,
          17.228331
         ],
         "marker": {
          "color": "#4daf4a",
          "line": {
           "color": "rgb(40,40,40)",
           "width": 0.5
          },
          "opacity": 0.5,
          "size": [
           4,
           3,
           3,
           2,
           1,
           1,
           1,
           1
          ],
          "sizemode": "area",
          "sizeref": 0.05
         },
         "name": "Epidemiology",
         "text": [
          "Nigeria",
          "Cameroon",
          "Egypt",
          "Tanzania",
          "Tunisia",
          "Benin",
          "Ethiopia",
          "Libya"
         ],
         "type": "scattergeo"
        },
        {
         "lat": [
          -30.559482,
          33.886917,
          31.791702,
          26.820553,
          -13.254308,
          -18.665695,
          7.946527,
          9.081999
         ],
         "lon": [
          22.937506,
          9.537499,
          -7.09262,
          30.802498,
          34.301525,
          35.529562,
          -1.023194,
          8.675277
         ],
         "marker": {
          "color": "#984ea3",
          "line": {
           "color": "rgb(40,40,40)",
           "width": 0.5
          },
          "opacity": 0.5,
          "size": [
           4,
           2,
           2,
           2,
           1,
           1,
           1,
           1
          ],
          "sizemode": "area",
          "sizeref": 0.05
         },
         "name": "Risk factors",
         "text": [
          "South Africa",
          "Tunisia",
          "Morocco",
          "Egypt",
          "Malawi",
          "Mozambique",
          "Ghana",
          "Nigeria"
         ],
         "type": "scattergeo"
        },
        {
         "lat": [
          7.369722
         ],
         "lon": [
          12.354722
         ],
         "marker": {
          "color": "#ff7f00",
          "line": {
           "color": "rgb(40,40,40)",
           "width": 0.5
          },
          "opacity": 0.5,
          "size": [
           3
          ],
          "sizemode": "area",
          "sizeref": 0.05
         },
         "name": "Education and Training",
         "text": [
          "Cameroon"
         ],
         "type": "scattergeo"
        },
        {
         "lat": [
          9.081999,
          -6.369028,
          -30.559482,
          1.373333,
          -0.023559,
          14.497401,
          9.145
         ],
         "lon": [
          8.675277,
          34.888822,
          22.937506,
          32.290275,
          37.906193,
          -14.452362,
          40.489673
         ],
         "marker": {
          "color": "#ffff33",
          "line": {
           "color": "rgb(40,40,40)",
           "width": 0.5
          },
          "opacity": 0.5,
          "size": [
           2,
           1,
           1,
           1,
           1,
           1,
           1
          ],
          "sizemode": "area",
          "sizeref": 0.05
         },
         "name": "Patient engagement and QOL",
         "text": [
          "Nigeria",
          "Tanzania",
          "South Africa",
          "Uganda",
          "Kenya",
          "Senegal",
          "Ethiopia"
         ],
         "type": "scattergeo"
        },
        {
         "lat": [
          33.886917,
          9.081999,
          -6.369028,
          -30.559482,
          -0.023559,
          7.369722,
          26.820553,
          12.862807,
          -13.133897,
          11.825138,
          -4.038333,
          15.454166,
          28.033886,
          -3.373056,
          12.238333,
          -22.328474,
          1.373333,
          26.3351,
          -18.766947,
          -13.254308,
          31.791702,
          -22.95764,
          17.607789,
          9.145,
          7.539989,
          7.946527,
          5.152149,
          -19.015438
         ],
         "lon": [
          9.537499,
          8.675277,
          34.888822,
          22.937506,
          37.906193,
          12.354722,
          30.802498,
          30.217636,
          27.849332,
          42.590275,
          21.758664,
          18.732207,
          1.659626,
          29.918886,
          -1.561593,
          24.684866,
          32.290275,
          17.228331,
          46.869107,
          34.301525,
          -7.09262,
          18.49041,
          8.081666,
          40.489673,
          -5.54708,
          -1.023194,
          46.199616,
          29.154857
         ],
         "marker": {
          "color": "#a65628",
          "line": {
           "color": "rgb(40,40,40)",
           "width": 0.5
          },
          "opacity": 0.5,
          "size": [
           2,
           2,
           2,
           2,
           2,
           1,
           1,
           1,
           1,
           1,
           1,
           1,
           1,
           1,
           1,
           1,
           1,
           1,
           1,
           1,
           1,
           1,
           1,
           1,
           1,
           1,
           1,
           1
          ],
          "sizemode": "area",
          "sizeref": 0.05
         },
         "name": "Management and Access to care",
         "text": [
          "Tunisia",
          "Nigeria",
          "Tanzania",
          "South Africa",
          "Kenya",
          "Cameroon",
          "Egypt",
          "Sudan",
          "Zambia",
          "Djibouti",
          "Congo",
          "Chad",
          "Algeria",
          "Burundi",
          "Burkina Faso",
          "Botswana",
          "Uganda",
          "Libya",
          "Madagascar",
          "Malawi",
          "Morocco",
          "Namibia",
          "Niger",
          "Ethiopia",
          "Ivory Coast",
          "Ghana",
          "Somalia",
          "Zimbabwe"
         ],
         "type": "scattergeo"
        },
        {
         "lat": [
          33.886917,
          -13.133897,
          26.820553,
          28.033886
         ],
         "lon": [
          9.537499,
          27.849332,
          30.802498,
          1.659626
         ],
         "marker": {
          "color": "#f781bf",
          "line": {
           "color": "rgb(40,40,40)",
           "width": 0.5
          },
          "opacity": 0.5,
          "size": [
           2,
           1,
           1,
           1
          ],
          "sizemode": "area",
          "sizeref": 0.05
         },
         "name": "Genetics+Clinical",
         "text": [
          "Tunisia",
          "Zambia",
          "Egypt",
          "Algeria"
         ],
         "type": "scattergeo"
        },
        {
         "lat": [
          -13.133897
         ],
         "lon": [
          27.849332
         ],
         "marker": {
          "color": "#999999",
          "line": {
           "color": "rgb(40,40,40)",
           "width": 0.5
          },
          "opacity": 0.5,
          "size": [
           1
          ],
          "sizemode": "area",
          "sizeref": 0.05
         },
         "name": "Clinical features+Epidemiology",
         "text": [
          "Zambia"
         ],
         "type": "scattergeo"
        },
        {
         "lat": [
          9.081999
         ],
         "lon": [
          8.675277
         ],
         "marker": {
          "color": "#000000",
          "line": {
           "color": "rgb(40,40,40)",
           "width": 0.5
          },
          "opacity": 0.5,
          "size": [
           1
          ],
          "sizemode": "area",
          "sizeref": 0.05
         },
         "name": "Unknown",
         "text": [
          "Nigeria"
         ],
         "type": "scattergeo"
        }
       ],
       "layout": {
        "autosize": true,
        "geo": {
         "landcolor": "rgb(217, 217, 217)",
         "scope": "africa"
        },
        "showlegend": true,
        "template": {
         "data": {
          "bar": [
           {
            "error_x": {
             "color": "#2a3f5f"
            },
            "error_y": {
             "color": "#2a3f5f"
            },
            "marker": {
             "line": {
              "color": "#E5ECF6",
              "width": 0.5
             },
             "pattern": {
              "fillmode": "overlay",
              "size": 10,
              "solidity": 0.2
             }
            },
            "type": "bar"
           }
          ],
          "barpolar": [
           {
            "marker": {
             "line": {
              "color": "#E5ECF6",
              "width": 0.5
             },
             "pattern": {
              "fillmode": "overlay",
              "size": 10,
              "solidity": 0.2
             }
            },
            "type": "barpolar"
           }
          ],
          "carpet": [
           {
            "aaxis": {
             "endlinecolor": "#2a3f5f",
             "gridcolor": "white",
             "linecolor": "white",
             "minorgridcolor": "white",
             "startlinecolor": "#2a3f5f"
            },
            "baxis": {
             "endlinecolor": "#2a3f5f",
             "gridcolor": "white",
             "linecolor": "white",
             "minorgridcolor": "white",
             "startlinecolor": "#2a3f5f"
            },
            "type": "carpet"
           }
          ],
          "choropleth": [
           {
            "colorbar": {
             "outlinewidth": 0,
             "ticks": ""
            },
            "type": "choropleth"
           }
          ],
          "contour": [
           {
            "colorbar": {
             "outlinewidth": 0,
             "ticks": ""
            },
            "colorscale": [
             [
              0,
              "#0d0887"
             ],
             [
              0.1111111111111111,
              "#46039f"
             ],
             [
              0.2222222222222222,
              "#7201a8"
             ],
             [
              0.3333333333333333,
              "#9c179e"
             ],
             [
              0.4444444444444444,
              "#bd3786"
             ],
             [
              0.5555555555555556,
              "#d8576b"
             ],
             [
              0.6666666666666666,
              "#ed7953"
             ],
             [
              0.7777777777777778,
              "#fb9f3a"
             ],
             [
              0.8888888888888888,
              "#fdca26"
             ],
             [
              1,
              "#f0f921"
             ]
            ],
            "type": "contour"
           }
          ],
          "contourcarpet": [
           {
            "colorbar": {
             "outlinewidth": 0,
             "ticks": ""
            },
            "type": "contourcarpet"
           }
          ],
          "heatmap": [
           {
            "colorbar": {
             "outlinewidth": 0,
             "ticks": ""
            },
            "colorscale": [
             [
              0,
              "#0d0887"
             ],
             [
              0.1111111111111111,
              "#46039f"
             ],
             [
              0.2222222222222222,
              "#7201a8"
             ],
             [
              0.3333333333333333,
              "#9c179e"
             ],
             [
              0.4444444444444444,
              "#bd3786"
             ],
             [
              0.5555555555555556,
              "#d8576b"
             ],
             [
              0.6666666666666666,
              "#ed7953"
             ],
             [
              0.7777777777777778,
              "#fb9f3a"
             ],
             [
              0.8888888888888888,
              "#fdca26"
             ],
             [
              1,
              "#f0f921"
             ]
            ],
            "type": "heatmap"
           }
          ],
          "heatmapgl": [
           {
            "colorbar": {
             "outlinewidth": 0,
             "ticks": ""
            },
            "colorscale": [
             [
              0,
              "#0d0887"
             ],
             [
              0.1111111111111111,
              "#46039f"
             ],
             [
              0.2222222222222222,
              "#7201a8"
             ],
             [
              0.3333333333333333,
              "#9c179e"
             ],
             [
              0.4444444444444444,
              "#bd3786"
             ],
             [
              0.5555555555555556,
              "#d8576b"
             ],
             [
              0.6666666666666666,
              "#ed7953"
             ],
             [
              0.7777777777777778,
              "#fb9f3a"
             ],
             [
              0.8888888888888888,
              "#fdca26"
             ],
             [
              1,
              "#f0f921"
             ]
            ],
            "type": "heatmapgl"
           }
          ],
          "histogram": [
           {
            "marker": {
             "pattern": {
              "fillmode": "overlay",
              "size": 10,
              "solidity": 0.2
             }
            },
            "type": "histogram"
           }
          ],
          "histogram2d": [
           {
            "colorbar": {
             "outlinewidth": 0,
             "ticks": ""
            },
            "colorscale": [
             [
              0,
              "#0d0887"
             ],
             [
              0.1111111111111111,
              "#46039f"
             ],
             [
              0.2222222222222222,
              "#7201a8"
             ],
             [
              0.3333333333333333,
              "#9c179e"
             ],
             [
              0.4444444444444444,
              "#bd3786"
             ],
             [
              0.5555555555555556,
              "#d8576b"
             ],
             [
              0.6666666666666666,
              "#ed7953"
             ],
             [
              0.7777777777777778,
              "#fb9f3a"
             ],
             [
              0.8888888888888888,
              "#fdca26"
             ],
             [
              1,
              "#f0f921"
             ]
            ],
            "type": "histogram2d"
           }
          ],
          "histogram2dcontour": [
           {
            "colorbar": {
             "outlinewidth": 0,
             "ticks": ""
            },
            "colorscale": [
             [
              0,
              "#0d0887"
             ],
             [
              0.1111111111111111,
              "#46039f"
             ],
             [
              0.2222222222222222,
              "#7201a8"
             ],
             [
              0.3333333333333333,
              "#9c179e"
             ],
             [
              0.4444444444444444,
              "#bd3786"
             ],
             [
              0.5555555555555556,
              "#d8576b"
             ],
             [
              0.6666666666666666,
              "#ed7953"
             ],
             [
              0.7777777777777778,
              "#fb9f3a"
             ],
             [
              0.8888888888888888,
              "#fdca26"
             ],
             [
              1,
              "#f0f921"
             ]
            ],
            "type": "histogram2dcontour"
           }
          ],
          "mesh3d": [
           {
            "colorbar": {
             "outlinewidth": 0,
             "ticks": ""
            },
            "type": "mesh3d"
           }
          ],
          "parcoords": [
           {
            "line": {
             "colorbar": {
              "outlinewidth": 0,
              "ticks": ""
             }
            },
            "type": "parcoords"
           }
          ],
          "pie": [
           {
            "automargin": true,
            "type": "pie"
           }
          ],
          "scatter": [
           {
            "fillpattern": {
             "fillmode": "overlay",
             "size": 10,
             "solidity": 0.2
            },
            "type": "scatter"
           }
          ],
          "scatter3d": [
           {
            "line": {
             "colorbar": {
              "outlinewidth": 0,
              "ticks": ""
             }
            },
            "marker": {
             "colorbar": {
              "outlinewidth": 0,
              "ticks": ""
             }
            },
            "type": "scatter3d"
           }
          ],
          "scattercarpet": [
           {
            "marker": {
             "colorbar": {
              "outlinewidth": 0,
              "ticks": ""
             }
            },
            "type": "scattercarpet"
           }
          ],
          "scattergeo": [
           {
            "marker": {
             "colorbar": {
              "outlinewidth": 0,
              "ticks": ""
             }
            },
            "type": "scattergeo"
           }
          ],
          "scattergl": [
           {
            "marker": {
             "colorbar": {
              "outlinewidth": 0,
              "ticks": ""
             }
            },
            "type": "scattergl"
           }
          ],
          "scattermapbox": [
           {
            "marker": {
             "colorbar": {
              "outlinewidth": 0,
              "ticks": ""
             }
            },
            "type": "scattermapbox"
           }
          ],
          "scatterpolar": [
           {
            "marker": {
             "colorbar": {
              "outlinewidth": 0,
              "ticks": ""
             }
            },
            "type": "scatterpolar"
           }
          ],
          "scatterpolargl": [
           {
            "marker": {
             "colorbar": {
              "outlinewidth": 0,
              "ticks": ""
             }
            },
            "type": "scatterpolargl"
           }
          ],
          "scatterternary": [
           {
            "marker": {
             "colorbar": {
              "outlinewidth": 0,
              "ticks": ""
             }
            },
            "type": "scatterternary"
           }
          ],
          "surface": [
           {
            "colorbar": {
             "outlinewidth": 0,
             "ticks": ""
            },
            "colorscale": [
             [
              0,
              "#0d0887"
             ],
             [
              0.1111111111111111,
              "#46039f"
             ],
             [
              0.2222222222222222,
              "#7201a8"
             ],
             [
              0.3333333333333333,
              "#9c179e"
             ],
             [
              0.4444444444444444,
              "#bd3786"
             ],
             [
              0.5555555555555556,
              "#d8576b"
             ],
             [
              0.6666666666666666,
              "#ed7953"
             ],
             [
              0.7777777777777778,
              "#fb9f3a"
             ],
             [
              0.8888888888888888,
              "#fdca26"
             ],
             [
              1,
              "#f0f921"
             ]
            ],
            "type": "surface"
           }
          ],
          "table": [
           {
            "cells": {
             "fill": {
              "color": "#EBF0F8"
             },
             "line": {
              "color": "white"
             }
            },
            "header": {
             "fill": {
              "color": "#C8D4E3"
             },
             "line": {
              "color": "white"
             }
            },
            "type": "table"
           }
          ]
         },
         "layout": {
          "annotationdefaults": {
           "arrowcolor": "#2a3f5f",
           "arrowhead": 0,
           "arrowwidth": 1
          },
          "autotypenumbers": "strict",
          "coloraxis": {
           "colorbar": {
            "outlinewidth": 0,
            "ticks": ""
           }
          },
          "colorscale": {
           "diverging": [
            [
             0,
             "#8e0152"
            ],
            [
             0.1,
             "#c51b7d"
            ],
            [
             0.2,
             "#de77ae"
            ],
            [
             0.3,
             "#f1b6da"
            ],
            [
             0.4,
             "#fde0ef"
            ],
            [
             0.5,
             "#f7f7f7"
            ],
            [
             0.6,
             "#e6f5d0"
            ],
            [
             0.7,
             "#b8e186"
            ],
            [
             0.8,
             "#7fbc41"
            ],
            [
             0.9,
             "#4d9221"
            ],
            [
             1,
             "#276419"
            ]
           ],
           "sequential": [
            [
             0,
             "#0d0887"
            ],
            [
             0.1111111111111111,
             "#46039f"
            ],
            [
             0.2222222222222222,
             "#7201a8"
            ],
            [
             0.3333333333333333,
             "#9c179e"
            ],
            [
             0.4444444444444444,
             "#bd3786"
            ],
            [
             0.5555555555555556,
             "#d8576b"
            ],
            [
             0.6666666666666666,
             "#ed7953"
            ],
            [
             0.7777777777777778,
             "#fb9f3a"
            ],
            [
             0.8888888888888888,
             "#fdca26"
            ],
            [
             1,
             "#f0f921"
            ]
           ],
           "sequentialminus": [
            [
             0,
             "#0d0887"
            ],
            [
             0.1111111111111111,
             "#46039f"
            ],
            [
             0.2222222222222222,
             "#7201a8"
            ],
            [
             0.3333333333333333,
             "#9c179e"
            ],
            [
             0.4444444444444444,
             "#bd3786"
            ],
            [
             0.5555555555555556,
             "#d8576b"
            ],
            [
             0.6666666666666666,
             "#ed7953"
            ],
            [
             0.7777777777777778,
             "#fb9f3a"
            ],
            [
             0.8888888888888888,
             "#fdca26"
            ],
            [
             1,
             "#f0f921"
            ]
           ]
          },
          "colorway": [
           "#636efa",
           "#EF553B",
           "#00cc96",
           "#ab63fa",
           "#FFA15A",
           "#19d3f3",
           "#FF6692",
           "#B6E880",
           "#FF97FF",
           "#FECB52"
          ],
          "font": {
           "color": "#2a3f5f"
          },
          "geo": {
           "bgcolor": "white",
           "lakecolor": "white",
           "landcolor": "#E5ECF6",
           "showlakes": true,
           "showland": true,
           "subunitcolor": "white"
          },
          "hoverlabel": {
           "align": "left"
          },
          "hovermode": "closest",
          "mapbox": {
           "style": "light"
          },
          "paper_bgcolor": "white",
          "plot_bgcolor": "#E5ECF6",
          "polar": {
           "angularaxis": {
            "gridcolor": "white",
            "linecolor": "white",
            "ticks": ""
           },
           "bgcolor": "#E5ECF6",
           "radialaxis": {
            "gridcolor": "white",
            "linecolor": "white",
            "ticks": ""
           }
          },
          "scene": {
           "xaxis": {
            "backgroundcolor": "#E5ECF6",
            "gridcolor": "white",
            "gridwidth": 2,
            "linecolor": "white",
            "showbackground": true,
            "ticks": "",
            "zerolinecolor": "white"
           },
           "yaxis": {
            "backgroundcolor": "#E5ECF6",
            "gridcolor": "white",
            "gridwidth": 2,
            "linecolor": "white",
            "showbackground": true,
            "ticks": "",
            "zerolinecolor": "white"
           },
           "zaxis": {
            "backgroundcolor": "#E5ECF6",
            "gridcolor": "white",
            "gridwidth": 2,
            "linecolor": "white",
            "showbackground": true,
            "ticks": "",
            "zerolinecolor": "white"
           }
          },
          "shapedefaults": {
           "line": {
            "color": "#2a3f5f"
           }
          },
          "ternary": {
           "aaxis": {
            "gridcolor": "white",
            "linecolor": "white",
            "ticks": ""
           },
           "baxis": {
            "gridcolor": "white",
            "linecolor": "white",
            "ticks": ""
           },
           "bgcolor": "#E5ECF6",
           "caxis": {
            "gridcolor": "white",
            "linecolor": "white",
            "ticks": ""
           }
          },
          "title": {
           "x": 0.05
          },
          "xaxis": {
           "automargin": true,
           "gridcolor": "white",
           "linecolor": "white",
           "ticks": "",
           "title": {
            "standoff": 15
           },
           "zerolinecolor": "white",
           "zerolinewidth": 2
          },
          "yaxis": {
           "automargin": true,
           "gridcolor": "white",
           "linecolor": "white",
           "ticks": "",
           "title": {
            "standoff": 15
           },
           "zerolinecolor": "white",
           "zerolinewidth": 2
          }
         }
        },
        "title": {
         "text": "Africa Parkinson's Disease (PD) Publications"
        },
        "xaxis": {
         "title": {
          "text": "Last updated: 2022-06-30"
         }
        }
       }
      },
      "image/png": "[encoded data removed]",
      "text/html": [
       "<div>                            <div id=\"2ed5daf2-911f-4d0d-91e3-ffb84aa34d6d\" class=\"plotly-graph-div\" style=\"height:525px; width:100%;\"></div>            <script type=\"text/javascript\">                require([\"plotly\"], function(Plotly) {                    window.PLOTLYENV=window.PLOTLYENV || {};                                    if (document.getElementById(\"2ed5daf2-911f-4d0d-91e3-ffb84aa34d6d\")) {                    Plotly.newPlot(                        \"2ed5daf2-911f-4d0d-91e3-ffb84aa34d6d\",                        [{\"lat\":[-30.559482,33.886917,9.081999,31.791702,28.033886,26.820553,12.862807,-13.133897,26.3351,-6.369028],\"lon\":[22.937506,9.537499,8.675277,-7.09262,1.659626,30.802498,30.217636,27.849332,17.228331,34.888822],\"marker\":{\"color\":\"#e41a1c\",\"line\":{\"color\":\"rgb(40,40,40)\",\"width\":0.5},\"opacity\":0.5,\"size\":[22,20,9,8,6,3,3,2,2,2],\"sizemode\":\"area\",\"sizeref\":0.05},\"name\":\"Genetics\",\"text\":[\"South Africa\",\"Tunisia\",\"Nigeria\",\"Morocco\",\"Algeria\",\"Egypt\",\"Sudan\",\"Zambia\",\"Libya\",\"Tanzania\"],\"type\":\"scattergeo\"},{\"lat\":[9.081999,26.820553,-30.559482,-6.369028,31.791702,9.145,7.369722,14.497401,33.886917,7.946527,12.862807,-13.133897,-18.766947,17.607789,-0.023559],\"lon\":[8.675277,30.802498,22.937506,34.888822,-7.09262,40.489673,12.354722,-14.452362,9.537499,-1.023194,30.217636,27.849332,46.869107,8.081666,37.906193],\"marker\":{\"color\":\"#377eb8\",\"line\":{\"color\":\"rgb(40,40,40)\",\"width\":0.5},\"opacity\":0.5,\"size\":[18,6,5,5,5,4,3,3,2,2,1,1,1,1,1],\"sizemode\":\"area\",\"sizeref\":0.05},\"name\":\"Clinical features\",\"text\":[\"Nigeria\",\"Egypt\",\"South Africa\",\"Tanzania\",\"Morocco\",\"Ethiopia\",\"Cameroon\",\"Senegal\",\"Tunisia\",\"Ghana\",\"Sudan\",\"Zambia\",\"Madagascar\",\"Niger\",\"Kenya\"],\"type\":\"scattergeo\"},{\"lat\":[9.081999,7.369722,26.820553,-6.369028,33.886917,9.30769,9.145,26.3351],\"lon\":[8.675277,12.354722,30.802498,34.888822,9.537499,2.315834,40.489673,17.228331],\"marker\":{\"color\":\"#4daf4a\",\"line\":{\"color\":\"rgb(40,40,40)\",\"width\":0.5},\"opacity\":0.5,\"size\":[4,3,3,2,1,1,1,1],\"sizemode\":\"area\",\"sizeref\":0.05},\"name\":\"Epidemiology\",\"text\":[\"Nigeria\",\"Cameroon\",\"Egypt\",\"Tanzania\",\"Tunisia\",\"Benin\",\"Ethiopia\",\"Libya\"],\"type\":\"scattergeo\"},{\"lat\":[-30.559482,33.886917,31.791702,26.820553,-13.254308,-18.665695,7.946527,9.081999],\"lon\":[22.937506,9.537499,-7.09262,30.802498,34.301525,35.529562,-1.023194,8.675277],\"marker\":{\"color\":\"#984ea3\",\"line\":{\"color\":\"rgb(40,40,40)\",\"width\":0.5},\"opacity\":0.5,\"size\":[4,2,2,2,1,1,1,1],\"sizemode\":\"area\",\"sizeref\":0.05},\"name\":\"Risk factors\",\"text\":[\"South Africa\",\"Tunisia\",\"Morocco\",\"Egypt\",\"Malawi\",\"Mozambique\",\"Ghana\",\"Nigeria\"],\"type\":\"scattergeo\"},{\"lat\":[7.369722],\"lon\":[12.354722],\"marker\":{\"color\":\"#ff7f00\",\"line\":{\"color\":\"rgb(40,40,40)\",\"width\":0.5},\"opacity\":0.5,\"size\":[3],\"sizemode\":\"area\",\"sizeref\":0.05},\"name\":\"Education and Training\",\"text\":[\"Cameroon\"],\"type\":\"scattergeo\"},{\"lat\":[9.081999,-6.369028,-30.559482,1.373333,-0.023559,14.497401,9.145],\"lon\":[8.675277,34.888822,22.937506,32.290275,37.906193,-14.452362,40.489673],\"marker\":{\"color\":\"#ffff33\",\"line\":{\"color\":\"rgb(40,40,40)\",\"width\":0.5},\"opacity\":0.5,\"size\":[2,1,1,1,1,1,1],\"sizemode\":\"area\",\"sizeref\":0.05},\"name\":\"Patient engagement and QOL\",\"text\":[\"Nigeria\",\"Tanzania\",\"South Africa\",\"Uganda\",\"Kenya\",\"Senegal\",\"Ethiopia\"],\"type\":\"scattergeo\"},{\"lat\":[33.886917,9.081999,-6.369028,-30.559482,-0.023559,7.369722,26.820553,12.862807,-13.133897,11.825138,-4.038333,15.454166,28.033886,-3.373056,12.238333,-22.328474,1.373333,26.3351,-18.766947,-13.254308,31.791702,-22.95764,17.607789,9.145,7.539989,7.946527,5.152149,-19.015438],\"lon\":[9.537499,8.675277,34.888822,22.937506,37.906193,12.354722,30.802498,30.217636,27.849332,42.590275,21.758664,18.732207,1.659626,29.918886,-1.561593,24.684866,32.290275,17.228331,46.869107,34.301525,-7.09262,18.49041,8.081666,40.489673,-5.54708,-1.023194,46.199616,29.154857],\"marker\":{\"color\":\"#a65628\",\"line\":{\"color\":\"rgb(40,40,40)\",\"width\":0.5},\"opacity\":0.5,\"size\":[2,2,2,2,2,1,1,1,1,1,1,1,1,1,1,1,1,1,1,1,1,1,1,1,1,1,1,1],\"sizemode\":\"area\",\"sizeref\":0.05},\"name\":\"Management and Access to care\",\"text\":[\"Tunisia\",\"Nigeria\",\"Tanzania\",\"South Africa\",\"Kenya\",\"Cameroon\",\"Egypt\",\"Sudan\",\"Zambia\",\"Djibouti\",\"Congo\",\"Chad\",\"Algeria\",\"Burundi\",\"Burkina Faso\",\"Botswana\",\"Uganda\",\"Libya\",\"Madagascar\",\"Malawi\",\"Morocco\",\"Namibia\",\"Niger\",\"Ethiopia\",\"Ivory Coast\",\"Ghana\",\"Somalia\",\"Zimbabwe\"],\"type\":\"scattergeo\"},{\"lat\":[33.886917,-13.133897,26.820553,28.033886],\"lon\":[9.537499,27.849332,30.802498,1.659626],\"marker\":{\"color\":\"#f781bf\",\"line\":{\"color\":\"rgb(40,40,40)\",\"width\":0.5},\"opacity\":0.5,\"size\":[2,1,1,1],\"sizemode\":\"area\",\"sizeref\":0.05},\"name\":\"Genetics+Clinical\",\"text\":[\"Tunisia\",\"Zambia\",\"Egypt\",\"Algeria\"],\"type\":\"scattergeo\"},{\"lat\":[-13.133897],\"lon\":[27.849332],\"marker\":{\"color\":\"#999999\",\"line\":{\"color\":\"rgb(40,40,40)\",\"width\":0.5},\"opacity\":0.5,\"size\":[1],\"sizemode\":\"area\",\"sizeref\":0.05},\"name\":\"Clinical features+Epidemiology\",\"text\":[\"Zambia\"],\"type\":\"scattergeo\"},{\"lat\":[9.081999],\"lon\":[8.675277],\"marker\":{\"color\":\"#000000\",\"line\":{\"color\":\"rgb(40,40,40)\",\"width\":0.5},\"opacity\":0.5,\"size\":[1],\"sizemode\":\"area\",\"sizeref\":0.05},\"name\":\"Unknown\",\"text\":[\"Nigeria\"],\"type\":\"scattergeo\"}],                        {\"template\":{\"data\":{\"histogram2dcontour\":[{\"type\":\"histogram2dcontour\",\"colorbar\":{\"outlinewidth\":0,\"ticks\":\"\"},\"colorscale\":[[0.0,\"#0d0887\"],[0.1111111111111111,\"#46039f\"],[0.2222222222222222,\"#7201a8\"],[0.3333333333333333,\"#9c179e\"],[0.4444444444444444,\"#bd3786\"],[0.5555555555555556,\"#d8576b\"],[0.6666666666666666,\"#ed7953\"],[0.7777777777777778,\"#fb9f3a\"],[0.8888888888888888,\"#fdca26\"],[1.0,\"#f0f921\"]]}],\"choropleth\":[{\"type\":\"choropleth\",\"colorbar\":{\"outlinewidth\":0,\"ticks\":\"\"}}],\"histogram2d\":[{\"type\":\"histogram2d\",\"colorbar\":{\"outlinewidth\":0,\"ticks\":\"\"},\"colorscale\":[[0.0,\"#0d0887\"],[0.1111111111111111,\"#46039f\"],[0.2222222222222222,\"#7201a8\"],[0.3333333333333333,\"#9c179e\"],[0.4444444444444444,\"#bd3786\"],[0.5555555555555556,\"#d8576b\"],[0.6666666666666666,\"#ed7953\"],[0.7777777777777778,\"#fb9f3a\"],[0.8888888888888888,\"#fdca26\"],[1.0,\"#f0f921\"]]}],\"heatmap\":[{\"type\":\"heatmap\",\"colorbar\":{\"outlinewidth\":0,\"ticks\":\"\"},\"colorscale\":[[0.0,\"#0d0887\"],[0.1111111111111111,\"#46039f\"],[0.2222222222222222,\"#7201a8\"],[0.3333333333333333,\"#9c179e\"],[0.4444444444444444,\"#bd3786\"],[0.5555555555555556,\"#d8576b\"],[0.6666666666666666,\"#ed7953\"],[0.7777777777777778,\"#fb9f3a\"],[0.8888888888888888,\"#fdca26\"],[1.0,\"#f0f921\"]]}],\"heatmapgl\":[{\"type\":\"heatmapgl\",\"colorbar\":{\"outlinewidth\":0,\"ticks\":\"\"},\"colorscale\":[[0.0,\"#0d0887\"],[0.1111111111111111,\"#46039f\"],[0.2222222222222222,\"#7201a8\"],[0.3333333333333333,\"#9c179e\"],[0.4444444444444444,\"#bd3786\"],[0.5555555555555556,\"#d8576b\"],[0.6666666666666666,\"#ed7953\"],[0.7777777777777778,\"#fb9f3a\"],[0.8888888888888888,\"#fdca26\"],[1.0,\"#f0f921\"]]}],\"contourcarpet\":[{\"type\":\"contourcarpet\",\"colorbar\":{\"outlinewidth\":0,\"ticks\":\"\"}}],\"contour\":[{\"type\":\"contour\",\"colorbar\":{\"outlinewidth\":0,\"ticks\":\"\"},\"colorscale\":[[0.0,\"#0d0887\"],[0.1111111111111111,\"#46039f\"],[0.2222222222222222,\"#7201a8\"],[0.3333333333333333,\"#9c179e\"],[0.4444444444444444,\"#bd3786\"],[0.5555555555555556,\"#d8576b\"],[0.6666666666666666,\"#ed7953\"],[0.7777777777777778,\"#fb9f3a\"],[0.8888888888888888,\"#fdca26\"],[1.0,\"#f0f921\"]]}],\"surface\":[{\"type\":\"surface\",\"colorbar\":{\"outlinewidth\":0,\"ticks\":\"\"},\"colorscale\":[[0.0,\"#0d0887\"],[0.1111111111111111,\"#46039f\"],[0.2222222222222222,\"#7201a8\"],[0.3333333333333333,\"#9c179e\"],[0.4444444444444444,\"#bd3786\"],[0.5555555555555556,\"#d8576b\"],[0.6666666666666666,\"#ed7953\"],[0.7777777777777778,\"#fb9f3a\"],[0.8888888888888888,\"#fdca26\"],[1.0,\"#f0f921\"]]}],\"mesh3d\":[{\"type\":\"mesh3d\",\"colorbar\":{\"outlinewidth\":0,\"ticks\":\"\"}}],\"scatter\":[{\"fillpattern\":{\"fillmode\":\"overlay\",\"size\":10,\"solidity\":0.2},\"type\":\"scatter\"}],\"parcoords\":[{\"type\":\"parcoords\",\"line\":{\"colorbar\":{\"outlinewidth\":0,\"ticks\":\"\"}}}],\"scatterpolargl\":[{\"type\":\"scatterpolargl\",\"marker\":{\"colorbar\":{\"outlinewidth\":0,\"ticks\":\"\"}}}],\"bar\":[{\"error_x\":{\"color\":\"#2a3f5f\"},\"error_y\":{\"color\":\"#2a3f5f\"},\"marker\":{\"line\":{\"color\":\"#E5ECF6\",\"width\":0.5},\"pattern\":{\"fillmode\":\"overlay\",\"size\":10,\"solidity\":0.2}},\"type\":\"bar\"}],\"scattergeo\":[{\"type\":\"scattergeo\",\"marker\":{\"colorbar\":{\"outlinewidth\":0,\"ticks\":\"\"}}}],\"scatterpolar\":[{\"type\":\"scatterpolar\",\"marker\":{\"colorbar\":{\"outlinewidth\":0,\"ticks\":\"\"}}}],\"histogram\":[{\"marker\":{\"pattern\":{\"fillmode\":\"overlay\",\"size\":10,\"solidity\":0.2}},\"type\":\"histogram\"}],\"scattergl\":[{\"type\":\"scattergl\",\"marker\":{\"colorbar\":{\"outlinewidth\":0,\"ticks\":\"\"}}}],\"scatter3d\":[{\"type\":\"scatter3d\",\"line\":{\"colorbar\":{\"outlinewidth\":0,\"ticks\":\"\"}},\"marker\":{\"colorbar\":{\"outlinewidth\":0,\"ticks\":\"\"}}}],\"scattermapbox\":[{\"type\":\"scattermapbox\",\"marker\":{\"colorbar\":{\"outlinewidth\":0,\"ticks\":\"\"}}}],\"scatterternary\":[{\"type\":\"scatterternary\",\"marker\":{\"colorbar\":{\"outlinewidth\":0,\"ticks\":\"\"}}}],\"scattercarpet\":[{\"type\":\"scattercarpet\",\"marker\":{\"colorbar\":{\"outlinewidth\":0,\"ticks\":\"\"}}}],\"carpet\":[{\"aaxis\":{\"endlinecolor\":\"#2a3f5f\",\"gridcolor\":\"white\",\"linecolor\":\"white\",\"minorgridcolor\":\"white\",\"startlinecolor\":\"#2a3f5f\"},\"baxis\":{\"endlinecolor\":\"#2a3f5f\",\"gridcolor\":\"white\",\"linecolor\":\"white\",\"minorgridcolor\":\"white\",\"startlinecolor\":\"#2a3f5f\"},\"type\":\"carpet\"}],\"table\":[{\"cells\":{\"fill\":{\"color\":\"#EBF0F8\"},\"line\":{\"color\":\"white\"}},\"header\":{\"fill\":{\"color\":\"#C8D4E3\"},\"line\":{\"color\":\"white\"}},\"type\":\"table\"}],\"barpolar\":[{\"marker\":{\"line\":{\"color\":\"#E5ECF6\",\"width\":0.5},\"pattern\":{\"fillmode\":\"overlay\",\"size\":10,\"solidity\":0.2}},\"type\":\"barpolar\"}],\"pie\":[{\"automargin\":true,\"type\":\"pie\"}]},\"layout\":{\"autotypenumbers\":\"strict\",\"colorway\":[\"#636efa\",\"#EF553B\",\"#00cc96\",\"#ab63fa\",\"#FFA15A\",\"#19d3f3\",\"#FF6692\",\"#B6E880\",\"#FF97FF\",\"#FECB52\"],\"font\":{\"color\":\"#2a3f5f\"},\"hovermode\":\"closest\",\"hoverlabel\":{\"align\":\"left\"},\"paper_bgcolor\":\"white\",\"plot_bgcolor\":\"#E5ECF6\",\"polar\":{\"bgcolor\":\"#E5ECF6\",\"angularaxis\":{\"gridcolor\":\"white\",\"linecolor\":\"white\",\"ticks\":\"\"},\"radialaxis\":{\"gridcolor\":\"white\",\"linecolor\":\"white\",\"ticks\":\"\"}},\"ternary\":{\"bgcolor\":\"#E5ECF6\",\"aaxis\":{\"gridcolor\":\"white\",\"linecolor\":\"white\",\"ticks\":\"\"},\"baxis\":{\"gridcolor\":\"white\",\"linecolor\":\"white\",\"ticks\":\"\"},\"caxis\":{\"gridcolor\":\"white\",\"linecolor\":\"white\",\"ticks\":\"\"}},\"coloraxis\":{\"colorbar\":{\"outlinewidth\":0,\"ticks\":\"\"}},\"colorscale\":{\"sequential\":[[0.0,\"#0d0887\"],[0.1111111111111111,\"#46039f\"],[0.2222222222222222,\"#7201a8\"],[0.3333333333333333,\"#9c179e\"],[0.4444444444444444,\"#bd3786\"],[0.5555555555555556,\"#d8576b\"],[0.6666666666666666,\"#ed7953\"],[0.7777777777777778,\"#fb9f3a\"],[0.8888888888888888,\"#fdca26\"],[1.0,\"#f0f921\"]],\"sequentialminus\":[[0.0,\"#0d0887\"],[0.1111111111111111,\"#46039f\"],[0.2222222222222222,\"#7201a8\"],[0.3333333333333333,\"#9c179e\"],[0.4444444444444444,\"#bd3786\"],[0.5555555555555556,\"#d8576b\"],[0.6666666666666666,\"#ed7953\"],[0.7777777777777778,\"#fb9f3a\"],[0.8888888888888888,\"#fdca26\"],[1.0,\"#f0f921\"]],\"diverging\":[[0,\"#8e0152\"],[0.1,\"#c51b7d\"],[0.2,\"#de77ae\"],[0.3,\"#f1b6da\"],[0.4,\"#fde0ef\"],[0.5,\"#f7f7f7\"],[0.6,\"#e6f5d0\"],[0.7,\"#b8e186\"],[0.8,\"#7fbc41\"],[0.9,\"#4d9221\"],[1,\"#276419\"]]},\"xaxis\":{\"gridcolor\":\"white\",\"linecolor\":\"white\",\"ticks\":\"\",\"title\":{\"standoff\":15},\"zerolinecolor\":\"white\",\"automargin\":true,\"zerolinewidth\":2},\"yaxis\":{\"gridcolor\":\"white\",\"linecolor\":\"white\",\"ticks\":\"\",\"title\":{\"standoff\":15},\"zerolinecolor\":\"white\",\"automargin\":true,\"zerolinewidth\":2},\"scene\":{\"xaxis\":{\"backgroundcolor\":\"#E5ECF6\",\"gridcolor\":\"white\",\"linecolor\":\"white\",\"showbackground\":true,\"ticks\":\"\",\"zerolinecolor\":\"white\",\"gridwidth\":2},\"yaxis\":{\"backgroundcolor\":\"#E5ECF6\",\"gridcolor\":\"white\",\"linecolor\":\"white\",\"showbackground\":true,\"ticks\":\"\",\"zerolinecolor\":\"white\",\"gridwidth\":2},\"zaxis\":{\"backgroundcolor\":\"#E5ECF6\",\"gridcolor\":\"white\",\"linecolor\":\"white\",\"showbackground\":true,\"ticks\":\"\",\"zerolinecolor\":\"white\",\"gridwidth\":2}},\"shapedefaults\":{\"line\":{\"color\":\"#2a3f5f\"}},\"annotationdefaults\":{\"arrowcolor\":\"#2a3f5f\",\"arrowhead\":0,\"arrowwidth\":1},\"geo\":{\"bgcolor\":\"white\",\"landcolor\":\"#E5ECF6\",\"subunitcolor\":\"white\",\"showland\":true,\"showlakes\":true,\"lakecolor\":\"white\"},\"title\":{\"x\":0.05},\"mapbox\":{\"style\":\"light\"}}},\"title\":{\"text\":\"Africa Parkinson's Disease (PD) Publications\"},\"geo\":{\"scope\":\"africa\",\"landcolor\":\"rgb(217, 217, 217)\"},\"xaxis\":{\"title\":{\"text\":\"Last updated: 2022-06-30\"}},\"showlegend\":true},                        {\"responsive\": true}                    ).then(function(){\n",
       "                            \n",
       "var gd = document.getElementById('2ed5daf2-911f-4d0d-91e3-ffb84aa34d6d');\n",
       "var x = new MutationObserver(function (mutations, observer) {{\n",
       "        var display = window.getComputedStyle(gd).display;\n",
       "        if (!display || display === 'none') {{\n",
       "            console.log([gd, 'removed!']);\n",
       "            Plotly.purge(gd);\n",
       "            observer.disconnect();\n",
       "        }}\n",
       "}});\n",
       "\n",
       "// Listen for the removal of the full notebook cells\n",
       "var notebookContainer = gd.closest('#notebook-container');\n",
       "if (notebookContainer) {{\n",
       "    x.observe(notebookContainer, {childList: true});\n",
       "}}\n",
       "\n",
       "// Listen for the clearing of the current output cell\n",
       "var outputEl = gd.closest('.output');\n",
       "if (outputEl) {{\n",
       "    x.observe(outputEl, {childList: true});\n",
       "}}\n",
       "\n",
       "                        })                };                });            </script>        </div>"
      ]
     },
     "metadata": {},
     "output_type": "display_data"
    }
   ],
   "source": [
    "fig = go.Figure()\n",
    "\n",
    "for i in range(len(groups2)):\n",
    "\n",
    "    theme = groups2.iloc[i][\"theme\"]\n",
    "    \n",
    "    color = groups2.iloc[i][\"color\"]\n",
    "    \n",
    "    sub = df[df[\"theme\"] == theme]\n",
    "    \n",
    "    fig.add_trace(go.Scattergeo(\n",
    "        lon = sub['longitude'],\n",
    "        lat = sub['latitude'],\n",
    "        text = sub['name'],\n",
    "        marker = dict(\n",
    "            size = sub['count'],\n",
    "            color = color,\n",
    "            line_color='rgb(40,40,40)',\n",
    "            line_width=0.5,\n",
    "            sizemode = 'area',\n",
    "            opacity = 0.5,\n",
    "            sizeref = 0.05\n",
    "        ),\n",
    "        name = theme))\n",
    "    \n",
    "fig.update_layout(\n",
    "        title_text = \"Africa Parkinson's Disease (PD) Publications\",\n",
    "        xaxis_title = 'Last updated: ' + str(date.today()),\n",
    "        showlegend = True,\n",
    "        geo = dict(\n",
    "            scope = 'africa',\n",
    "            landcolor = 'rgb(217, 217, 217)',\n",
    "        )\n",
    "    )\n",
    "\n",
    "fig.show()"
   ]
  },
  {
   "cell_type": "code",
   "execution_count": 20,
   "metadata": {},
   "outputs": [],
   "source": [
    "fig.write_image(\"figures/AfricaPDpublications.pdf\")"
   ]
  },
  {
   "cell_type": "code",
   "execution_count": 21,
   "metadata": {},
   "outputs": [],
   "source": [
    "fig.write_html(\"docs/index.html\", full_html=False, include_plotlyjs='cdn')"
   ]
  },
  {
   "cell_type": "code",
   "execution_count": null,
   "metadata": {},
   "outputs": [],
   "source": []
  }
 ],
 "metadata": {
  "kernelspec": {
   "display_name": "Python 3 (ipykernel)",
   "language": "python",
   "name": "python3"
  },
  "language_info": {
   "codemirror_mode": {
    "name": "ipython",
    "version": 3
   },
   "file_extension": ".py",
   "mimetype": "text/x-python",
   "name": "python",
   "nbconvert_exporter": "python",
   "pygments_lexer": "ipython3",
   "version": "3.8.10"
  }
 },
 "nbformat": 4,
 "nbformat_minor": 4
}
